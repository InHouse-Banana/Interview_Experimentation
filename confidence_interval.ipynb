{
 "cells": [
  {
   "cell_type": "code",
   "execution_count": 3,
   "metadata": {},
   "outputs": [],
   "source": [
    "import numpy as np  \n",
    "size = 1000\n",
    "control_group = np.random.normal(loc=25, scale=5, size=size)\n",
    "\n",
    "mean = np.mean(control_group)\n",
    "std = np.std(control_group)\n",
    "\n",
    "n = size-1\n"
   ]
  },
  {
   "cell_type": "code",
   "execution_count": 5,
   "metadata": {},
   "outputs": [
    {
     "name": "stdout",
     "output_type": "stream",
     "text": [
      "for the mean 24.92 the confidence interval is (24.614190028049837, 25.233085669874843)\n"
     ]
    }
   ],
   "source": [
    "import scipy.stats as stats\n",
    "\n",
    "confidence = 0.95\n",
    "alpha = 1 - confidence\n",
    "z_critical = stats.norm.ppf(1 - alpha/2)\n",
    "margin_of_error = z_critical * (std / np.sqrt(n))\n",
    "confidence_interval = (mean - margin_of_error, mean + margin_of_error)\n",
    "\n",
    "print(f\"for the mean {mean:.2f} the confidence interval is\", confidence_interval)\n"
   ]
  },
  {
   "cell_type": "code",
   "execution_count": null,
   "metadata": {},
   "outputs": [],
   "source": []
  }
 ],
 "metadata": {
  "kernelspec": {
   "display_name": "base",
   "language": "python",
   "name": "python3"
  },
  "language_info": {
   "codemirror_mode": {
    "name": "ipython",
    "version": 3
   },
   "file_extension": ".py",
   "mimetype": "text/x-python",
   "name": "python",
   "nbconvert_exporter": "python",
   "pygments_lexer": "ipython3",
   "version": "3.12.3"
  }
 },
 "nbformat": 4,
 "nbformat_minor": 2
}
