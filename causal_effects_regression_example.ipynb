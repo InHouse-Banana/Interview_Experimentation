{
 "cells": [
  {
   "cell_type": "markdown",
   "metadata": {},
   "source": [
    "# Example Code: Estimating Causal Effect of Grad School on Income\n",
    "\n",
    "Code authored by: Shawhin Talebi <br>\n",
    "\n",
    "Causal Effects via Regression: blog coming soon <br>\n",
    "DoWhy Library: https://microsoft.github.io/dowhy/ <br>\n",
    "Data from: https://archive.ics.uci.edu/ml/datasets/census+income"
   ]
  },
  {
   "cell_type": "code",
   "execution_count": 1,
   "metadata": {},
   "outputs": [],
   "source": [
    "#https://medium.com/towards-data-science/causal-effects-via-regression-28cb58a2fffc"
   ]
  },
  {
   "cell_type": "markdown",
   "metadata": {},
   "source": [
    "### Import modules"
   ]
  },
  {
   "cell_type": "code",
   "execution_count": 2,
   "metadata": {},
   "outputs": [],
   "source": [
    "import pickle\n",
    "import pandas as pd\n",
    "\n",
    "import econml\n",
    "import dowhy\n",
    "\n",
    "from sklearn.linear_model import LinearRegression\n",
    "from sklearn.tree import DecisionTreeRegressor"
   ]
  },
  {
   "cell_type": "markdown",
   "metadata": {},
   "source": [
    "### Load data"
   ]
  },
  {
   "cell_type": "code",
   "execution_count": 10,
   "metadata": {},
   "outputs": [
    {
     "data": {
      "text/html": [
       "<div>\n",
       "<style scoped>\n",
       "    .dataframe tbody tr th:only-of-type {\n",
       "        vertical-align: middle;\n",
       "    }\n",
       "\n",
       "    .dataframe tbody tr th {\n",
       "        vertical-align: top;\n",
       "    }\n",
       "\n",
       "    .dataframe thead th {\n",
       "        text-align: right;\n",
       "    }\n",
       "</style>\n",
       "<table border=\"1\" class=\"dataframe\">\n",
       "  <thead>\n",
       "    <tr style=\"text-align: right;\">\n",
       "      <th></th>\n",
       "      <th>age</th>\n",
       "      <th>hasGraduateDegree</th>\n",
       "      <th>greaterThan50k</th>\n",
       "    </tr>\n",
       "  </thead>\n",
       "  <tbody>\n",
       "    <tr>\n",
       "      <th>0</th>\n",
       "      <td>39</td>\n",
       "      <td>0</td>\n",
       "      <td>0</td>\n",
       "    </tr>\n",
       "    <tr>\n",
       "      <th>1</th>\n",
       "      <td>50</td>\n",
       "      <td>0</td>\n",
       "      <td>0</td>\n",
       "    </tr>\n",
       "    <tr>\n",
       "      <th>2</th>\n",
       "      <td>38</td>\n",
       "      <td>0</td>\n",
       "      <td>0</td>\n",
       "    </tr>\n",
       "    <tr>\n",
       "      <th>3</th>\n",
       "      <td>53</td>\n",
       "      <td>0</td>\n",
       "      <td>0</td>\n",
       "    </tr>\n",
       "    <tr>\n",
       "      <th>5</th>\n",
       "      <td>37</td>\n",
       "      <td>1</td>\n",
       "      <td>0</td>\n",
       "    </tr>\n",
       "    <tr>\n",
       "      <th>...</th>\n",
       "      <td>...</td>\n",
       "      <td>...</td>\n",
       "      <td>...</td>\n",
       "    </tr>\n",
       "    <tr>\n",
       "      <th>32556</th>\n",
       "      <td>27</td>\n",
       "      <td>0</td>\n",
       "      <td>0</td>\n",
       "    </tr>\n",
       "    <tr>\n",
       "      <th>32557</th>\n",
       "      <td>40</td>\n",
       "      <td>0</td>\n",
       "      <td>1</td>\n",
       "    </tr>\n",
       "    <tr>\n",
       "      <th>32558</th>\n",
       "      <td>58</td>\n",
       "      <td>0</td>\n",
       "      <td>0</td>\n",
       "    </tr>\n",
       "    <tr>\n",
       "      <th>32559</th>\n",
       "      <td>22</td>\n",
       "      <td>0</td>\n",
       "      <td>0</td>\n",
       "    </tr>\n",
       "    <tr>\n",
       "      <th>32560</th>\n",
       "      <td>52</td>\n",
       "      <td>0</td>\n",
       "      <td>1</td>\n",
       "    </tr>\n",
       "  </tbody>\n",
       "</table>\n",
       "<p>29170 rows × 3 columns</p>\n",
       "</div>"
      ],
      "text/plain": [
       "       age  hasGraduateDegree  greaterThan50k\n",
       "0       39                  0               0\n",
       "1       50                  0               0\n",
       "2       38                  0               0\n",
       "3       53                  0               0\n",
       "5       37                  1               0\n",
       "...    ...                ...             ...\n",
       "32556   27                  0               0\n",
       "32557   40                  0               1\n",
       "32558   58                  0               0\n",
       "32559   22                  0               0\n",
       "32560   52                  0               1\n",
       "\n",
       "[29170 rows x 3 columns]"
      ]
     },
     "execution_count": 10,
     "metadata": {},
     "output_type": "execute_result"
    }
   ],
   "source": [
    "df = pd.read_pickle( open( \"df_causal_effects.p\", \"rb\" ) ).astype(int)\n",
    "df"
   ]
  },
  {
   "cell_type": "markdown",
   "metadata": {},
   "source": [
    "### Define causal model"
   ]
  },
  {
   "cell_type": "code",
   "execution_count": 11,
   "metadata": {},
   "outputs": [],
   "source": [
    "model = dowhy.CausalModel(\n",
    "        data = df,\n",
    "        treatment= \"hasGraduateDegree\",\n",
    "        outcome= \"greaterThan50k\",\n",
    "        common_causes=\"age\",\n",
    "        )"
   ]
  },
  {
   "cell_type": "markdown",
   "metadata": {},
   "source": [
    "#### Linear Regression\n",
    "First we try linear regression."
   ]
  },
  {
   "cell_type": "code",
   "execution_count": 12,
   "metadata": {},
   "outputs": [
    {
     "name": "stdout",
     "output_type": "stream",
     "text": [
      "linear_regression\n",
      "{'control_value': 0, 'treatment_value': 1, 'test_significance': None, 'evaluate_effect_strength': False, 'confidence_intervals': False, 'target_units': 'ate', 'effect_modifiers': []}\n"
     ]
    },
    {
     "name": "stderr",
     "output_type": "stream",
     "text": [
      "c:\\Users\\User\\anaconda3\\Lib\\site-packages\\dowhy\\causal_estimators\\regression_estimator.py:59: FutureWarning: Series.__getitem__ treating keys as positions is deprecated. In a future version, integer keys will always be treated as labels (consistent with DataFrame behavior). To access a value by position, use `ser.iloc[pos]`\n",
      "  intercept_parameter = self.model.params[0]\n"
     ]
    }
   ],
   "source": [
    "estimand = model.identify_effect(proceed_when_unidentifiable=True)\n",
    "\n",
    "LR_estimate = model.estimate_effect(estimand, method_name=\"backdoor.linear_regression\")"
   ]
  },
  {
   "cell_type": "code",
   "execution_count": 13,
   "metadata": {},
   "outputs": [
    {
     "name": "stdout",
     "output_type": "stream",
     "text": [
      "*** Causal Estimate ***\n",
      "\n",
      "## Identified estimand\n",
      "Estimand type: nonparametric-ate\n",
      "\n",
      "### Estimand : 1\n",
      "Estimand name: backdoor\n",
      "Estimand expression:\n",
      "         d                                 \n",
      "────────────────────(E[greaterThan50k|age])\n",
      "d[hasGraduateDegree]                       \n",
      "Estimand assumption 1, Unconfoundedness: If U→{hasGraduateDegree} and U→greaterThan50k then P(greaterThan50k|hasGraduateDegree,age,U) = P(greaterThan50k|hasGraduateDegree,age)\n",
      "\n",
      "## Realized estimand\n",
      "b: greaterThan50k~hasGraduateDegree+age\n",
      "Target units: ate\n",
      "\n",
      "## Estimate\n",
      "Mean value: 0.2976051357033005\n",
      "\n"
     ]
    }
   ],
   "source": [
    "print(LR_estimate)"
   ]
  },
  {
   "cell_type": "markdown",
   "metadata": {},
   "source": [
    "#### Double Machine Learning\n",
    "\n",
    "Next, we try Double ML which is a bit overkill for this simple example, espeically with the treatment and outcome variable only taking values of 0 or 1. \n",
    "\n",
    "Note that the models we use in the DML process are all linear regression for this example, however more sophisticated techniques can be used for more complex problems."
   ]
  },
  {
   "cell_type": "code",
   "execution_count": 14,
   "metadata": {},
   "outputs": [
    {
     "name": "stderr",
     "output_type": "stream",
     "text": [
      "Using `tqdm.autonotebook.tqdm` in notebook mode. Use `tqdm.tqdm` instead to force console mode (e.g. in jupyter console)\n",
      "The final model has a nonzero intercept for at least one outcome; it will be subtracted, but consider fitting a model without an intercept if possible.\n"
     ]
    }
   ],
   "source": [
    "DML_estimate = model.estimate_effect(estimand, \n",
    "                                     method_name=\"backdoor.econml.dml.DML\",\n",
    "                                     method_params={\"init_params\":{\n",
    "                                         'model_y':LinearRegression(),\n",
    "                                         'model_t':LinearRegression(),\n",
    "                                         'model_final':LinearRegression()\n",
    "                                                                  },\n",
    "                                                   \"fit_params\":{}\n",
    "                                              })"
   ]
  },
  {
   "cell_type": "code",
   "execution_count": 15,
   "metadata": {},
   "outputs": [
    {
     "name": "stdout",
     "output_type": "stream",
     "text": [
      "*** Causal Estimate ***\n",
      "\n",
      "## Identified estimand\n",
      "Estimand type: nonparametric-ate\n",
      "\n",
      "### Estimand : 1\n",
      "Estimand name: backdoor\n",
      "Estimand expression:\n",
      "         d                                 \n",
      "────────────────────(E[greaterThan50k|age])\n",
      "d[hasGraduateDegree]                       \n",
      "Estimand assumption 1, Unconfoundedness: If U→{hasGraduateDegree} and U→greaterThan50k then P(greaterThan50k|hasGraduateDegree,age,U) = P(greaterThan50k|hasGraduateDegree,age)\n",
      "\n",
      "## Realized estimand\n",
      "b: greaterThan50k~hasGraduateDegree+age | \n",
      "Target units: ate\n",
      "\n",
      "## Estimate\n",
      "Mean value: 0.297637229589215\n",
      "Effect estimates: [0.29763723 0.29763723 0.29763723 ... 0.29763723 0.29763723 0.29763723]\n",
      "\n"
     ]
    }
   ],
   "source": [
    "print(DML_estimate)"
   ]
  },
  {
   "cell_type": "markdown",
   "metadata": {},
   "source": [
    "#### X-learner\n",
    "Finally we try the X-learner making use of decision trees for our sub-models."
   ]
  },
  {
   "cell_type": "code",
   "execution_count": 16,
   "metadata": {},
   "outputs": [
    {
     "name": "stderr",
     "output_type": "stream",
     "text": [
      "A column-vector y was passed when a 1d array was expected. Please change the shape of y to (n_samples, ), for example using ravel().\n"
     ]
    }
   ],
   "source": [
    "Xlearner_estimate = model.estimate_effect(estimand,\n",
    "                                method_name=\"backdoor.econml.metalearners.XLearner\",\n",
    "                                method_params={\"init_params\":{\n",
    "                                                    'models': DecisionTreeRegressor()\n",
    "                                                    },\n",
    "                                               \"fit_params\":{}\n",
    "                                              })"
   ]
  },
  {
   "cell_type": "code",
   "execution_count": 17,
   "metadata": {},
   "outputs": [
    {
     "name": "stdout",
     "output_type": "stream",
     "text": [
      "*** Causal Estimate ***\n",
      "\n",
      "## Identified estimand\n",
      "Estimand type: nonparametric-ate\n",
      "\n",
      "### Estimand : 1\n",
      "Estimand name: backdoor\n",
      "Estimand expression:\n",
      "         d                                 \n",
      "────────────────────(E[greaterThan50k|age])\n",
      "d[hasGraduateDegree]                       \n",
      "Estimand assumption 1, Unconfoundedness: If U→{hasGraduateDegree} and U→greaterThan50k then P(greaterThan50k|hasGraduateDegree,age,U) = P(greaterThan50k|hasGraduateDegree,age)\n",
      "\n",
      "## Realized estimand\n",
      "b: greaterThan50k~hasGraduateDegree+age\n",
      "Target units: ate\n",
      "\n",
      "## Estimate\n",
      "Mean value: 0.20232049378002753\n",
      "Effect estimates: [ 0.31037666  0.21099013  0.36363636 ...  0.16049383 -0.00342775\n",
      "  0.2008029 ]\n",
      "\n"
     ]
    }
   ],
   "source": [
    "print(Xlearner_estimate)"
   ]
  }
 ],
 "metadata": {
  "kernelspec": {
   "display_name": "base",
   "language": "python",
   "name": "python3"
  },
  "language_info": {
   "codemirror_mode": {
    "name": "ipython",
    "version": 3
   },
   "file_extension": ".py",
   "mimetype": "text/x-python",
   "name": "python",
   "nbconvert_exporter": "python",
   "pygments_lexer": "ipython3",
   "version": "3.12.3"
  }
 },
 "nbformat": 4,
 "nbformat_minor": 4
}
