{
 "cells": [
  {
   "cell_type": "code",
   "execution_count": 21,
   "metadata": {},
   "outputs": [],
   "source": [
    "class Solution:\n",
    "    def isValid(self, s: str) -> bool:\n",
    "        # Initialize an empty stack and a hash map for matching brackets\n",
    "        stack = []\n",
    "        hash = {')': '(', ']': '[', '}': '{'}\n",
    "        \n",
    "        # Loop through each character in the string\n",
    "        for char in s:\n",
    "            print('char', char, 'stack:', stack)\n",
    "            if char in hash:\n",
    "                # If it's a closing bracket, check the stack\n",
    "                if stack and (stack[-1] == hash[char]):\n",
    "                    stack.pop()  # Remove the matching opening bracket\n",
    "                else:\n",
    "                    return False  # Invalid if no match\n",
    "            else:\n",
    "                # Push opening brackets onto the stack\n",
    "                stack.append(char)\n",
    "        \n",
    "        # Return True if stack is empty, False otherwise\n",
    "        return not stack"
   ]
  },
  {
   "cell_type": "code",
   "execution_count": 22,
   "metadata": {},
   "outputs": [
    {
     "name": "stdout",
     "output_type": "stream",
     "text": [
      "char ( stack: []\n",
      "char ) stack: ['(']\n"
     ]
    },
    {
     "data": {
      "text/plain": [
       "True"
      ]
     },
     "execution_count": 22,
     "metadata": {},
     "output_type": "execute_result"
    }
   ],
   "source": [
    "Solution.isValid(Solution,s='()')"
   ]
  },
  {
   "cell_type": "code",
   "execution_count": 23,
   "metadata": {},
   "outputs": [
    {
     "name": "stdout",
     "output_type": "stream",
     "text": [
      "char ( stack: []\n",
      "char { stack: ['(']\n",
      "char } stack: ['(', '{']\n",
      "char ) stack: ['(']\n"
     ]
    },
    {
     "data": {
      "text/plain": [
       "True"
      ]
     },
     "execution_count": 23,
     "metadata": {},
     "output_type": "execute_result"
    }
   ],
   "source": [
    "Solution.isValid(Solution,s='({})')"
   ]
  },
  {
   "cell_type": "code",
   "execution_count": 24,
   "metadata": {},
   "outputs": [],
   "source": [
    "from typing import List\n",
    "class Solution:\n",
    "    def twoSum(self, nums: List[int], target: int) -> List[int]:\n",
    "        numMap = {}\n",
    "        n = len(nums)\n",
    "\n",
    "        for i in range(n):\n",
    "            print(numMap)\n",
    "            complement = target - nums[i]\n",
    "            if complement in numMap:\n",
    "                return [numMap[complement], i]\n",
    "            numMap[nums[i]] = i\n",
    "\n",
    "        return []  # No solution found"
   ]
  },
  {
   "cell_type": "code",
   "execution_count": 27,
   "metadata": {},
   "outputs": [
    {
     "name": "stdout",
     "output_type": "stream",
     "text": [
      "{}\n",
      "{3: 0}\n",
      "{3: 0, 2: 1}\n"
     ]
    },
    {
     "data": {
      "text/plain": [
       "[1, 2]"
      ]
     },
     "execution_count": 27,
     "metadata": {},
     "output_type": "execute_result"
    }
   ],
   "source": [
    "solution = Solution()\n",
    "solution.twoSum([3,2,4], 6)\n",
    "\n"
   ]
  },
  {
   "cell_type": "code",
   "execution_count": 36,
   "metadata": {},
   "outputs": [],
   "source": [
    "class Solution:\n",
    "    def romanToInt(self, s: str) -> int:\n",
    "        res = 0\n",
    "        roman = {\n",
    "            'I': 1,\n",
    "            'V': 5,\n",
    "            'X': 10,\n",
    "            'L': 50,\n",
    "            'C': 100,\n",
    "            'D': 500,\n",
    "            'M': 1000\n",
    "        }\n",
    "\n",
    "        print('res:', res, 'list pairs:', list(zip(s, s[1:])))\n",
    "        for a, b in zip(s, s[1:]):\n",
    "            if roman[a] < roman[b]:\n",
    "                res -= roman[a]\n",
    "            else:\n",
    "                res += roman[a]\n",
    "            print('res:',res)\n",
    "        return res + roman[s[-1]] "
   ]
  },
  {
   "cell_type": "code",
   "execution_count": 37,
   "metadata": {},
   "outputs": [
    {
     "name": "stdout",
     "output_type": "stream",
     "text": [
      "res: 0 list pairs: [('L', 'V'), ('V', 'I'), ('I', 'I'), ('I', 'I')]\n",
      "res: 50\n",
      "res: 55\n",
      "res: 56\n",
      "res: 57\n"
     ]
    },
    {
     "data": {
      "text/plain": [
       "58"
      ]
     },
     "execution_count": 37,
     "metadata": {},
     "output_type": "execute_result"
    }
   ],
   "source": [
    "solution = Solution()\n",
    "solution.romanToInt(\"LVIII\")"
   ]
  },
  {
   "cell_type": "code",
   "execution_count": 38,
   "metadata": {},
   "outputs": [
    {
     "name": "stdout",
     "output_type": "stream",
     "text": [
      "res: 0 list pairs: [('M', 'C'), ('C', 'M'), ('M', 'X'), ('X', 'C'), ('C', 'I'), ('I', 'V')]\n",
      "res: 1000\n",
      "res: 900\n",
      "res: 1900\n",
      "res: 1890\n",
      "res: 1990\n",
      "res: 1989\n"
     ]
    },
    {
     "data": {
      "text/plain": [
       "1994"
      ]
     },
     "execution_count": 38,
     "metadata": {},
     "output_type": "execute_result"
    }
   ],
   "source": [
    "solution.romanToInt(\"MCMXCIV\")"
   ]
  },
  {
   "cell_type": "code",
   "execution_count": 47,
   "metadata": {},
   "outputs": [
    {
     "data": {
      "text/plain": [
       "1"
      ]
     },
     "execution_count": 47,
     "metadata": {},
     "output_type": "execute_result"
    }
   ],
   "source": [
    "import numpy as np, math\n",
    "str(math.factorial(5)).count('0')"
   ]
  },
  {
   "cell_type": "code",
   "execution_count": 72,
   "metadata": {},
   "outputs": [],
   "source": [
    "class Solution:\n",
    "    def removeElement(self, nums: List[int], val: int) -> int:\n",
    "\n",
    "        #str_numbers = str(nums)\n",
    "        count = nums.count(val)#str_numbers.count(str(val))\n",
    "        #new_str = str_numbers.replace(str(val), '_')\n",
    "        \n",
    "        new_list = [value for value in nums if value != val]\n",
    "\n",
    "        return count, new_list"
   ]
  },
  {
   "cell_type": "code",
   "execution_count": 73,
   "metadata": {},
   "outputs": [
    {
     "data": {
      "text/plain": [
       "(2, [2, 2])"
      ]
     },
     "execution_count": 73,
     "metadata": {},
     "output_type": "execute_result"
    }
   ],
   "source": [
    "solution = Solution()\n",
    "solution.removeElement([3,2,2,3], 3)"
   ]
  },
  {
   "cell_type": "code",
   "execution_count": 88,
   "metadata": {},
   "outputs": [],
   "source": [
    "class Solution:\n",
    "    def merge_pro(self, nums1: List[int], m: int, nums2: List[int], n: int) -> None:\n",
    "        midx = m - 1\n",
    "        nidx = n - 1 \n",
    "        right = m + n - 1\n",
    "\n",
    "        while nidx >= 0:\n",
    "            if midx >= 0 and nums1[midx] > nums2[nidx]:\n",
    "                nums1[right] = nums1[midx]\n",
    "                midx -= 1\n",
    "            else:\n",
    "                nums1[right] = nums2[nidx]\n",
    "                nidx -= 1\n",
    "\n",
    "            right -= 1\n",
    "        print(nums1)\n",
    "\n",
    "    def merge(self, nums1: List[int], m: int, nums2: List[int], n: int) -> None:\n",
    "\n",
    "        nums1 = [value for value in nums1 if value != 0]\n",
    "        nums2 = [value for value in nums2 if value != 0]\n",
    "\n",
    "        nums1 = sorted(nums1 + nums2)\n",
    "\n",
    "\n",
    "        print(nums1)\n",
    "\n"
   ]
  },
  {
   "cell_type": "code",
   "execution_count": 89,
   "metadata": {},
   "outputs": [
    {
     "name": "stdout",
     "output_type": "stream",
     "text": [
      "[1, 2, 2, 3, 5, 6]\n",
      "[1, 2, 2, 3, 5, 6]\n",
      "[1]\n",
      "[1]\n",
      "[1]\n",
      "[1]\n"
     ]
    }
   ],
   "source": [
    "solution = Solution()\n",
    "solution.merge([1,2,3,0,0,0], 3, [2,5,6], 3)\n",
    "solution.merge_pro([1,2,3,0,0,0], 3, [2,5,6], 3)\n",
    "\n",
    "solution.merge([1], 1, [], 0)\n",
    "solution.merge_pro([1], 1, [], 0)\n",
    "\n",
    "solution.merge([0], 1, [1], 1)\n",
    "solution.merge_pro([0], 0, [1], 1)"
   ]
  },
  {
   "cell_type": "code",
   "execution_count": 95,
   "metadata": {},
   "outputs": [],
   "source": [
    "class Solution:\n",
    "    # Function to check if there exist two numbers in the given array `nums`\n",
    "    # such that their bitwise OR operation results in a number with trailing zeros.\n",
    "    def hasTrailingZeros(self, nums: List[int]) -> bool:\n",
    "        n = len(nums) # Number of elements in the list `nums`\n",
    "        \n",
    "        # Iterate through the list\n",
    "        for i in range(n):\n",
    "            # Check if any pair of elements' bitwise OR results in a number with trailing zeros (even number)\n",
    "            for j in range(n):\n",
    "                print(nums[i],nums[j],(nums[i] | nums[j]) % 2)\n",
    "                if i != j and (nums[i] | nums[j]) % 2 == 0:\n",
    "                    return True # Return True if such a pair is found\n",
    "        \n",
    "        return False # Return False if no such pair is found"
   ]
  },
  {
   "cell_type": "code",
   "execution_count": 96,
   "metadata": {},
   "outputs": [
    {
     "name": "stdout",
     "output_type": "stream",
     "text": [
      "1 1 1\n",
      "1 2 1\n",
      "1 3 1\n",
      "1 4 1\n",
      "1 5 1\n",
      "2 1 1\n",
      "2 2 0\n",
      "2 3 1\n",
      "2 4 0\n"
     ]
    },
    {
     "data": {
      "text/plain": [
       "True"
      ]
     },
     "execution_count": 96,
     "metadata": {},
     "output_type": "execute_result"
    }
   ],
   "source": [
    "solution = Solution()\n",
    "solution.hasTrailingZeros([1,2,3,4,5])"
   ]
  },
  {
   "cell_type": "code",
   "execution_count": null,
   "metadata": {},
   "outputs": [],
   "source": []
  }
 ],
 "metadata": {
  "kernelspec": {
   "display_name": "base",
   "language": "python",
   "name": "python3"
  },
  "language_info": {
   "codemirror_mode": {
    "name": "ipython",
    "version": 3
   },
   "file_extension": ".py",
   "mimetype": "text/x-python",
   "name": "python",
   "nbconvert_exporter": "python",
   "pygments_lexer": "ipython3",
   "version": "3.12.7"
  }
 },
 "nbformat": 4,
 "nbformat_minor": 2
}
